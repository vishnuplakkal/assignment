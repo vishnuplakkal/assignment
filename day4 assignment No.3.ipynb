{
 "cells": [
  {
   "cell_type": "markdown",
   "metadata": {},
   "source": [
    "# Question 1"
   ]
  },
  {
   "cell_type": "code",
   "execution_count": 12,
   "metadata": {},
   "outputs": [
    {
     "name": "stdout",
     "output_type": "stream",
     "text": [
      "enter 1st number55\n",
      "enter 2nd number45\n",
      "enter 3rd number66\n",
      "max of the 3 numbers is 66\n"
     ]
    }
   ],
   "source": [
    "#Write a Python function to find the Max of three numbers.\n",
    "\n",
    "def maximum():\n",
    "    p=input(\"enter 1st number\")\n",
    "    q=input(\"enter 2nd number\")\n",
    "    r=input(\"enter 3rd number\")\n",
    "    b=max(p,q,r)\n",
    "    print(\"max of the 3 numbers is\",b)\n",
    "maximum()\n",
    "    "
   ]
  },
  {
   "cell_type": "markdown",
   "metadata": {},
   "source": [
    "# Question 2"
   ]
  },
  {
   "cell_type": "code",
   "execution_count": 2,
   "metadata": {},
   "outputs": [
    {
     "name": "stdout",
     "output_type": "stream",
     "text": [
      "enter the stringmalayaLAM\n",
      "The string is a Palindrome\n"
     ]
    }
   ],
   "source": [
    "#Write a Python function that checks whether a passed string is palindrome or not\n",
    "\n",
    "string=input(\"enter the string\")\n",
    "string=string.casefold()\n",
    "reverse=reversed(string)\n",
    "if list(string)==list(reverse):\n",
    "    print(\"The string is a Palindrome\")\n",
    "else:\n",
    "    print(\"The string is not a Palindrome\")"
   ]
  },
  {
   "cell_type": "markdown",
   "metadata": {},
   "source": [
    "# Question 3"
   ]
  },
  {
   "cell_type": "code",
   "execution_count": 28,
   "metadata": {},
   "outputs": [
    {
     "name": "stdout",
     "output_type": "stream",
     "text": [
      "Enter string:I am VishnuPlakkal\n",
      "The number of lowercase characters is:  13\n",
      "The number of uppercase characters is:  3\n"
     ]
    }
   ],
   "source": [
    "#Write a Python function that accepts a string and calculate the number of uppercase letters and lowercase letters\n",
    "\n",
    "def count():\n",
    "    \n",
    "    string=input(\"Enter string:\")\n",
    "    count1=0\n",
    "    count2=0\n",
    "    for i in string:\n",
    "        if(i.islower()):\n",
    "            count1=count1+1\n",
    "        elif(i.isupper()):\n",
    "            count2=count2+1\n",
    "    print(\"The number of lowercase characters is: \",count1)\n",
    "    \n",
    "    print(\"The number of uppercase characters is: \",count2)\n",
    "    \n",
    "count()"
   ]
  },
  {
   "cell_type": "markdown",
   "metadata": {},
   "source": [
    "# Question 4"
   ]
  },
  {
   "cell_type": "code",
   "execution_count": 17,
   "metadata": {},
   "outputs": [
    {
     "name": "stdout",
     "output_type": "stream",
     "text": [
      "SUM OF NUMBERS IN THE LIST:  34\n"
     ]
    }
   ],
   "source": [
    "#Write a Python function to sum all the numbers in a list\n",
    "\n",
    "def sumlist(list1):\n",
    "    totsum = 0\n",
    "    for i in list1:\n",
    "        totsum = totsum+i\n",
    "    return totsum\n",
    "print(\"SUM OF NUMBERS IN THE LIST: \",sumlist([5,3,4,6,7,8,1]))\n",
    "\n"
   ]
  },
  {
   "cell_type": "markdown",
   "metadata": {},
   "source": [
    "# Question 5"
   ]
  },
  {
   "cell_type": "code",
   "execution_count": 27,
   "metadata": {},
   "outputs": [
    {
     "name": "stdout",
     "output_type": "stream",
     "text": [
      "PRODUCTS OF NUMBERS IN THE LIST:  20160\n"
     ]
    }
   ],
   "source": [
    "#Write a Python function to multiply all the numbers in a list\n",
    "\n",
    "def mul(list1):\n",
    "    total = 1\n",
    "   \n",
    "    for i in list1:\n",
    "        \n",
    "        total = total*i\n",
    "    return total\n",
    "print(\"PRODUCTS OF NUMBERS IN THE LIST: \",mul([5,3,4,6,7,8,1]))"
   ]
  },
  {
   "cell_type": "markdown",
   "metadata": {},
   "source": [
    "# Question 6"
   ]
  },
  {
   "cell_type": "code",
   "execution_count": 34,
   "metadata": {},
   "outputs": [
    {
     "name": "stdout",
     "output_type": "stream",
     "text": [
      "Orginal List:  [20, 25, 34, 20, 10, 20, 10, 25, 34]\n",
      "Unique List:  [25, 34, 10, 20]\n"
     ]
    }
   ],
   "source": [
    "#Write a Python function that takes a list and returns a new list with unique elements of the first list\n",
    "\n",
    "list_1=[20,25,34,20,10,20,10,25,34]\n",
    "print(\"Orginal List: \",list_1)\n",
    "list_2=set(list_1)\n",
    "list_3=list(list_2)\n",
    "print(\"Unique List: \",list_3)"
   ]
  },
  {
   "cell_type": "code",
   "execution_count": null,
   "metadata": {},
   "outputs": [],
   "source": []
  }
 ],
 "metadata": {
  "kernelspec": {
   "display_name": "Python 3",
   "language": "python",
   "name": "python3"
  },
  "language_info": {
   "codemirror_mode": {
    "name": "ipython",
    "version": 3
   },
   "file_extension": ".py",
   "mimetype": "text/x-python",
   "name": "python",
   "nbconvert_exporter": "python",
   "pygments_lexer": "ipython3",
   "version": "3.8.5"
  }
 },
 "nbformat": 4,
 "nbformat_minor": 4
}
