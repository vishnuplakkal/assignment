{
 "cells": [
  {
   "cell_type": "markdown",
   "metadata": {},
   "source": [
    "# Question 1"
   ]
  },
  {
   "cell_type": "code",
   "execution_count": 48,
   "metadata": {},
   "outputs": [
    {
     "name": "stdout",
     "output_type": "stream",
     "text": [
      "['enter a list']123451323\n",
      "the orginal list is 123451323\n",
      "after removing duplicates the list is {'4', '2', '1', '5', '3'}\n"
     ]
    }
   ],
   "source": [
    "#Write a Python program to remove duplicates from a list\n",
    "\n",
    "a=input([\"enter a list\"])\n",
    "print(\"the orginal list is\",a)\n",
    "b=set(a)\n",
    "\n",
    "print(\"after removing duplicates the list is\",b)\n",
    "\n"
   ]
  },
  {
   "cell_type": "markdown",
   "metadata": {},
   "source": [
    "# Question 2"
   ]
  },
  {
   "cell_type": "code",
   "execution_count": 17,
   "metadata": {},
   "outputs": [
    {
     "name": "stdout",
     "output_type": "stream",
     "text": [
      "['enter first list']123456\n",
      "['enter second list']45789\n",
      "123456\n",
      "45789\n",
      "{'6', '1', '2', '3'}\n"
     ]
    }
   ],
   "source": [
    "#Write a Python program to get the difference between the two lists\n",
    "\n",
    "a=input([\"enter first list\"])\n",
    "b=input([\"enter second list\"])\n",
    "c=set(a)-set(b)\n",
    "print(a)\n",
    "print(b)\n",
    "print(c)"
   ]
  },
  {
   "cell_type": "markdown",
   "metadata": {},
   "source": [
    "# Question 3"
   ]
  },
  {
   "cell_type": "code",
   "execution_count": 3,
   "metadata": {},
   "outputs": [
    {
     "name": "stdout",
     "output_type": "stream",
     "text": [
      "['enter the list']1234578512132545\n",
      "1 ->  3\n",
      "2 ->  3\n",
      "3 ->  2\n",
      "4 ->  2\n",
      "5 ->  4\n",
      "7 ->  1\n",
      "8 ->  1\n"
     ]
    }
   ],
   "source": [
    "#Write a Python program to get the frequency of the elements in a list\n",
    "\n",
    "list1 = input([\"enter the list\"])\n",
    "frequency = {}\n",
    "for item in list1:\n",
    "    if(item in frequency):\n",
    "        frequency[item] += 1\n",
    "    else:\n",
    "        frequency[item] = 1\n",
    "for key, value in frequency.items():\n",
    "    print(\"% s -> % d\" % (key, value))\n"
   ]
  },
  {
   "cell_type": "markdown",
   "metadata": {},
   "source": [
    "# Question 4"
   ]
  },
  {
   "cell_type": "code",
   "execution_count": 1,
   "metadata": {},
   "outputs": [
    {
     "name": "stdout",
     "output_type": "stream",
     "text": [
      "Color1-Color2:  ['orange', 'white', 'red']\n",
      "Color2-Color1:  ['yellow', 'black']\n"
     ]
    }
   ],
   "source": [
    "#Write a Python program to compute the similarity between two lists.\n",
    "\n",
    "color1 = [\"red\", \"orange\", \"green\", \"blue\", \"white\"]\n",
    "color2 = [\"black\", \"yellow\", \"green\", \"blue\"]\n",
    "counter1 = set(color1)\n",
    "counter2 = set(color2)\n",
    "print(\"Color1-Color2: \",list(counter1 - counter2))\n",
    "print(\"Color2-Color1: \",list(counter2 - counter1))"
   ]
  },
  {
   "cell_type": "markdown",
   "metadata": {},
   "source": [
    "# Question 5"
   ]
  },
  {
   "cell_type": "code",
   "execution_count": 23,
   "metadata": {},
   "outputs": [
    {
     "name": "stdout",
     "output_type": "stream",
     "text": [
      "longest word is enter and the length is 5\n"
     ]
    }
   ],
   "source": [
    "#Write a Python function that takes a list of words and returns the length of the longest one\n",
    "\n",
    "def longest_word(a):\n",
    "    longest=len(a[0])\n",
    "    temp=a[0]\n",
    "\n",
    "    for i in a:\n",
    "        if len(i)>longest:\n",
    "            longest=len(i)\n",
    "            temp=i\n",
    "    print(\"longest word is\",temp, \"and the length is\",longest)\n",
    "a=[\"enter\",\"the\",\"list\"]\n",
    "longest_word(a)"
   ]
  },
  {
   "cell_type": "markdown",
   "metadata": {},
   "source": [
    "# Question 6"
   ]
  },
  {
   "cell_type": "code",
   "execution_count": 4,
   "metadata": {},
   "outputs": [
    {
     "name": "stdout",
     "output_type": "stream",
     "text": [
      "enter the string  Write a Python program to count the occurrences of each word in a given sentence\n"
     ]
    },
    {
     "data": {
      "text/plain": [
       "{'Write': 1,\n",
       " 'a': 2,\n",
       " 'Python': 1,\n",
       " 'program': 1,\n",
       " 'to': 1,\n",
       " 'count': 1,\n",
       " 'the': 1,\n",
       " 'occurrences': 1,\n",
       " 'of': 1,\n",
       " 'each': 1,\n",
       " 'word': 1,\n",
       " 'in': 1,\n",
       " 'given': 1,\n",
       " 'sentence': 1}"
      ]
     },
     "execution_count": 4,
     "metadata": {},
     "output_type": "execute_result"
    }
   ],
   "source": [
    "#Write a Python program to count the occurrences of each word in a given sentence\n",
    "\n",
    "def word_count(str):\n",
    "    sentence=str(input(\"enter the string  \"))\n",
    "    counts = dict()\n",
    "    words = sentence.split()\n",
    "\n",
    "    for word in words:\n",
    "        if word in counts:\n",
    "            counts[word] += 1\n",
    "        else:\n",
    "            counts[word] = 1\n",
    "\n",
    "    return counts\n",
    "    \n",
    "    print(sentence)\n",
    "word_count(str)"
   ]
  },
  {
   "cell_type": "markdown",
   "metadata": {},
   "source": [
    "# Question 7"
   ]
  },
  {
   "cell_type": "code",
   "execution_count": 10,
   "metadata": {},
   "outputs": [
    {
     "name": "stdout",
     "output_type": "stream",
     "text": [
      "Enter string:hII i Am vishnu\n",
      "Number of vowels are:  6\n",
      "number of a= 1\n",
      "number of e= 0\n",
      "number of i= 4\n",
      "number of o= 0\n",
      "number of u= 1\n"
     ]
    }
   ],
   "source": [
    "#Write a Python program to count and display the vowels of a given text\n",
    "\n",
    "text=input(\"Enter string:\")\n",
    "text=text.casefold()\n",
    "vowels=0\n",
    "a=0\n",
    "e=0\n",
    "c=0\n",
    "o=0\n",
    "u=0\n",
    "for i in text:\n",
    "      if(i=='a'):\n",
    "            a=a+1\n",
    "            vowels=vowels+1\n",
    "      if (i=='e'):\n",
    "                e=e+1\n",
    "                vowels=vowels+1\n",
    "      if (i=='i'):\n",
    "                c=c+1\n",
    "                vowels=vowels+1\n",
    "      if (i=='o'):\n",
    "                o=o+1\n",
    "                vowels=vowels+1\n",
    "      if (i=='u'):\n",
    "                u=u+1\n",
    "                vowels=vowels+1\n",
    "print(\"Number of vowels are: \",vowels)\n",
    "print(\"number of a=\",a)\n",
    "print(\"number of e=\",e)\n",
    "print(\"number of i=\",c)\n",
    "print(\"number of o=\",o)\n",
    "print(\"number of u=\",u)\n"
   ]
  },
  {
   "cell_type": "markdown",
   "metadata": {},
   "source": [
    "# Question 8"
   ]
  },
  {
   "cell_type": "code",
   "execution_count": 11,
   "metadata": {},
   "outputs": [
    {
     "name": "stdout",
     "output_type": "stream",
     "text": [
      "Input a number 10\n",
      "{1: 1, 2: 4, 3: 9, 4: 16, 5: 25, 6: 36, 7: 49, 8: 64, 9: 81, 10: 100}\n"
     ]
    }
   ],
   "source": [
    "#Write a Python script to generate and print a dictionary that contains a number (between 1 and n) in the form (x, x*x)\n",
    "\n",
    "n=int(input(\"Input a number \"))\n",
    "d = dict()\n",
    "\n",
    "for x in range(1,n+1):\n",
    "    d[x]=x*x\n",
    "\n",
    "print(d)"
   ]
  },
  {
   "cell_type": "markdown",
   "metadata": {},
   "source": [
    "# Question 9"
   ]
  },
  {
   "cell_type": "code",
   "execution_count": 20,
   "metadata": {},
   "outputs": [
    {
     "name": "stdout",
     "output_type": "stream",
     "text": [
      "{'a': 400, 'b': 400, 'd': 400}\n"
     ]
    }
   ],
   "source": [
    "#Write a Python program to combine two dictionary adding values for common keys\n",
    "\n",
    "d1={'a': 100, 'b': 200, 'c':300}\n",
    "d2={'a': 300, 'b': 200, 'd':400}\n",
    "for key in d2: \n",
    "    if key in d1: \n",
    "        d2[key] = d2[key] + d1[key] \n",
    "    else: \n",
    "        pass\n",
    "          \n",
    "print(d2)"
   ]
  },
  {
   "cell_type": "markdown",
   "metadata": {},
   "source": [
    "# Question 10"
   ]
  },
  {
   "cell_type": "code",
   "execution_count": 5,
   "metadata": {},
   "outputs": [
    {
     "name": "stdout",
     "output_type": "stream",
     "text": [
      "unique values=  {'S007', 'S002', 'S001', 'S005', 'S009'}\n"
     ]
    }
   ],
   "source": [
    "#Write a Python program to print all unique values in a dictionary\n",
    "\n",
    "a=[{\"V\":\"S001\"}, {\"V\": \"S002\"}, {\"VI\": \"S001\"}, {\"VI\": \"S005\"}, {\"VII\":\"S005\"},\n",
    "{\"V\":\"S009\"},{\"VIII\":\"S007\"}]\n",
    "\n",
    "b=set( val for dic in a for val in dic.values())   \n",
    "    \n",
    "print(\"unique values= \",b)"
   ]
  },
  {
   "cell_type": "code",
   "execution_count": null,
   "metadata": {},
   "outputs": [],
   "source": []
  }
 ],
 "metadata": {
  "kernelspec": {
   "display_name": "Python 3",
   "language": "python",
   "name": "python3"
  },
  "language_info": {
   "codemirror_mode": {
    "name": "ipython",
    "version": 3
   },
   "file_extension": ".py",
   "mimetype": "text/x-python",
   "name": "python",
   "nbconvert_exporter": "python",
   "pygments_lexer": "ipython3",
   "version": "3.8.5"
  }
 },
 "nbformat": 4,
 "nbformat_minor": 4
}
