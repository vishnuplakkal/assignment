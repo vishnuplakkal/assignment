{
 "cells": [
  {
   "cell_type": "code",
   "execution_count": 1,
   "metadata": {},
   "outputs": [],
   "source": [
    "import firebase_admin"
   ]
  },
  {
   "cell_type": "code",
   "execution_count": 2,
   "metadata": {},
   "outputs": [
    {
     "name": "stdout",
     "output_type": "stream",
     "text": [
      "working\n"
     ]
    }
   ],
   "source": [
    "import firebase_admin\n",
    "from firebase_admin import credentials\n",
    "cde = credentials.Certificate(\"collection-862f0-firebase-adminsdk-kkhww-a19839bb4a.json\")\n",
    "firebase_admin.initialize_app(cde)\n",
    "print(\"working\")"
   ]
  },
  {
   "cell_type": "code",
   "execution_count": 10,
   "metadata": {},
   "outputs": [
    {
     "name": "stdout",
     "output_type": "stream",
     "text": [
      "done\n"
     ]
    }
   ],
   "source": [
    "from firebase_admin import firestore\n",
    "db = firestore.client()\n",
    "doc_ref = db.collection(\"MOVIES\").document(\"MALAYALAM\")\n",
    "data = {\"NAMES\":[\"KING LIAR\",\"RAJAMANIKYAM\",\"DHRISHYAM\",\"TWOCOUNTRIES\",\"PULIMURUGHAN\"],\n",
    "       \"COLLECTION\":[111,34,81,40,75]}\n",
    "doc_ref.set(data)\n",
    "print(\"done\")"
   ]
  },
  {
   "cell_type": "code",
   "execution_count": 11,
   "metadata": {},
   "outputs": [],
   "source": [
    "db = firestore.client()\n",
    "docs = db.collection(\"MOVIES\").stream()\n",
    "for i in docs:\n",
    "    database = i.to_dict()"
   ]
  },
  {
   "cell_type": "code",
   "execution_count": 13,
   "metadata": {},
   "outputs": [],
   "source": [
    "i=database[\"NAMES\"]"
   ]
  },
  {
   "cell_type": "code",
   "execution_count": 14,
   "metadata": {},
   "outputs": [
    {
     "name": "stdout",
     "output_type": "stream",
     "text": [
      "ENTER YOUR NAME: VISHNU\n",
      "GUESS THE CHARACTER: \n",
      "YOU HAVE 5 CHANCES: \n",
      "GOOD LUCK! VISHNU\n",
      "_\n",
      "_\n",
      "_\n",
      "_\n",
      "_\n",
      "_\n",
      "_\n",
      "_\n",
      "_\n",
      "ENTER YOUR CHARACTER: KING LIAR\n",
      "K\n",
      "I\n",
      "N\n",
      "G\n",
      " \n",
      "L\n",
      "I\n",
      "A\n",
      "R\n",
      "CONGRATULATIONS!!!,CORRECT ANSWER\n",
      "MOVIE NAME IS:  KING LIAR\n"
     ]
    }
   ],
   "source": [
    "import random\n",
    "movie = database[\"NAMES\"]\n",
    "clue = database[\"COLLECTION\"]\n",
    "player = input(\"ENTER YOUR NAME: \")\n",
    "print(\"GUESS THE CHARACTER: \")\n",
    "print(\"YOU HAVE 5 CHANCES: \")\n",
    "print(\"GOOD LUCK!\",player)\n",
    "\n",
    "count = 10\n",
    "\n",
    "guess = \"\"\n",
    "\n",
    "word = random.choice(i)\n",
    "\n",
    "while count>0:\n",
    "    fail = 0\n",
    "    for char in word:\n",
    "        if char in guess:\n",
    "            print(char)\n",
    "        else:\n",
    "            print(\"_\")\n",
    "            fail+=1\n",
    "        \n",
    "    if fail==0:\n",
    "        print(\"CONGRATULATIONS!!!,CORRECT ANSWER\")\n",
    "        print(\"MOVIE NAME IS: \",word)\n",
    "        break\n",
    "        \n",
    "    g = input(\"ENTER YOUR CHARACTER: \")\n",
    "    guess = guess+g\n",
    "    \n",
    "    if g not in word:\n",
    "        count = count-1\n",
    "        print(\"WRONG ANSWER:(\")\n",
    "        \n",
    "        print(\"YOU HAVE\",count,\"CHANCES LEFT\")"
   ]
  },
  {
   "cell_type": "code",
   "execution_count": null,
   "metadata": {},
   "outputs": [],
   "source": []
  }
 ],
 "metadata": {
  "kernelspec": {
   "display_name": "Python 3",
   "language": "python",
   "name": "python3"
  },
  "language_info": {
   "codemirror_mode": {
    "name": "ipython",
    "version": 3
   },
   "file_extension": ".py",
   "mimetype": "text/x-python",
   "name": "python",
   "nbconvert_exporter": "python",
   "pygments_lexer": "ipython3",
   "version": "3.8.5"
  }
 },
 "nbformat": 4,
 "nbformat_minor": 4
}
