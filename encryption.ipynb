{
 "cells": [
  {
   "cell_type": "markdown",
   "metadata": {},
   "source": [
    "# project 2 cryptography"
   ]
  },
  {
   "cell_type": "code",
   "execution_count": 2,
   "metadata": {},
   "outputs": [],
   "source": [
    "import onetimepad"
   ]
  },
  {
   "cell_type": "code",
   "execution_count": 8,
   "metadata": {},
   "outputs": [
    {
     "name": "stdout",
     "output_type": "stream",
     "text": [
      "working 1a0807\n",
      "working hii\n"
     ]
    }
   ],
   "source": [
    "from tkinter import *\n",
    "root=Tk()\n",
    "root.title(\"crytography app\")\n",
    "\n",
    "def encryptMessage():\n",
    "    a=var.get()\n",
    "    ct=onetimepad.encrypt(a,\"random\")\n",
    "    print(\"working\",ct)\n",
    "    \n",
    "    e2.delete(0,END)\n",
    "    e2.insert(END,ct)\n",
    "def decryptMessage():\n",
    "    a=var1.get()\n",
    "    ct=onetimepad.decrypt(a,\"random\")\n",
    "    print(\"working\",ct)\n",
    "    \n",
    "    e4.delete(0,END)\n",
    "    e4.insert(END,ct)\n",
    "    \n",
    "l1=Label(root,text=\"Plain text\")   \n",
    "l1.grid(row=0,column=0)\n",
    "l2=Label(root,text=\"encrypted text\")\n",
    "l2.grid(row=0,column=2)\n",
    "    \n",
    "var=StringVar()\n",
    "e1=Entry(root,textvariable=var)\n",
    "e1.grid(row=0,column=1)\n",
    "e2=Entry(root)\n",
    "e2.grid(row=1,column=1)\n",
    "\n",
    "l3=Label(root,text=\"encrypted text\")\n",
    "l3.grid(row=0,column=2)\n",
    "l4=Label(root,text=\"Plain text\")\n",
    "l4.grid(row=1,column=2)\n",
    "    \n",
    "var1=StringVar()\n",
    "e3=Entry(root,textvariable=var1)\n",
    "e3.grid(row=0,column=3)\n",
    "e4=Entry(root)\n",
    "e4.grid(row=1,column=3)\n",
    "\n",
    "b1=Button(root,text=\"encryption\",bg=\"blue\",fg=\"red\",command=encryptMessage)\n",
    "b1.grid(row=2,column=1)\n",
    "\n",
    "b2=Button(root,text=\"decryption\",bg=\"blue\",fg=\"red\",command=decryptMessage)\n",
    "b2.grid(row=2,column=3)\n",
    "root.mainloop()"
   ]
  },
  {
   "cell_type": "code",
   "execution_count": null,
   "metadata": {},
   "outputs": [],
   "source": []
  }
 ],
 "metadata": {
  "kernelspec": {
   "display_name": "Python 3",
   "language": "python",
   "name": "python3"
  },
  "language_info": {
   "codemirror_mode": {
    "name": "ipython",
    "version": 3
   },
   "file_extension": ".py",
   "mimetype": "text/x-python",
   "name": "python",
   "nbconvert_exporter": "python",
   "pygments_lexer": "ipython3",
   "version": "3.8.5"
  }
 },
 "nbformat": 4,
 "nbformat_minor": 4
}
